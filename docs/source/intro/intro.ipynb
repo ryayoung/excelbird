{
 "cells": [
  {
   "attachments": {},
   "cell_type": "markdown",
   "metadata": {},
   "source": [
    "# Introduction\n",
    "\n",
    "## An HTML Layout\n",
    "\n",
    "```html\n",
    "<html>\n",
    "    <body>\n",
    "        <div>\n",
    "            stuff\n",
    "        </div>\n",
    "        <div>\n",
    "            more stuff\n",
    "        </div>\n",
    "    </body>\n",
    "</html>\n",
    "```\n",
    "\n",
    "\n",
    "## Excelbird Layout\n",
    "\n",
    "```python\n",
    "Book(  # no need to create a variable for it.\n",
    "    Sheet(\n",
    "        Frame(  # Columnar dataframe\n",
    "            Col(\n",
    "                Cell(1),\n",
    "                Cell(2),\n",
    "            ),\n",
    "        ),\n",
    "        Stack( # Unstructured horizontal container\n",
    "            Cell(1),\n",
    "            Row(1, 2, 3),\n",
    "            Col(5, 6, 7),\n",
    "            VFrame([[10,20], [30, 40]]),\n",
    "        )\n",
    "    )\n",
    ").write(path)\n",
    "```\n",
    "\n",
    "---"
   ]
  },
  {
   "attachments": {},
   "cell_type": "markdown",
   "metadata": {},
   "source": [
    "## Writing your first `Book`"
   ]
  },
  {
   "cell_type": "code",
   "execution_count": 27,
   "metadata": {},
   "outputs": [],
   "source": [
    "import excelbird as xb\n",
    "PATH = \"test.xlsx\""
   ]
  },
  {
   "attachments": {},
   "cell_type": "markdown",
   "metadata": {},
   "source": [
    "You don't care which letter of the alphabet your column is placed in, and in excelbird, your code doesn't either.\n",
    "\n",
    "A layout is a nested arrangement of elements. Each element will arrange its children\n",
    "in a different way. This way, you can re-arrange elements by simply re-arranging your code,\n",
    "without editing it.\n",
    "\n",
    "Every layout is built inside a `Book`. There's no need to assign it to a variable, since there's\n",
    "nothing you can do to it except call `.write()`.\n",
    "\n",
    "`Book` doesn't care what you put inside it. It will just put **each argument into a separate sheet**"
   ]
  },
  {
   "cell_type": "code",
   "execution_count": null,
   "metadata": {},
   "outputs": [],
   "source": [
    "xb.Book(\n",
    "    xb.Cell(1),  # sheet1\n",
    "    xb.Cell(2)   # sheet2\n",
    ").write(PATH)"
   ]
  },
  {
   "attachments": {},
   "cell_type": "markdown",
   "metadata": {},
   "source": [
    "<img src=\"https://i.imgur.com/ZjiAObH.png\" width=\"350\"/>"
   ]
  },
  {
   "attachments": {},
   "cell_type": "markdown",
   "metadata": {},
   "source": [
    "A `Sheet` is a container that arranges its elements **vertically**."
   ]
  },
  {
   "cell_type": "code",
   "execution_count": null,
   "metadata": {},
   "outputs": [],
   "source": [
    "xb.Book(\n",
    "    xb.Sheet(\n",
    "        xb.Cell(1),\n",
    "        xb.Cell(2),\n",
    "    )\n",
    ").write(PATH)"
   ]
  },
  {
   "attachments": {},
   "cell_type": "markdown",
   "metadata": {},
   "source": [
    "<img src=\"https://i.imgur.com/0ptIppO.png\" width=\"350\"/>"
   ]
  },
  {
   "attachments": {},
   "cell_type": "markdown",
   "metadata": {},
   "source": [
    "A `Col` is also a vertical container, but it's *structured*, and contains **Cells only**"
   ]
  },
  {
   "cell_type": "code",
   "execution_count": null,
   "metadata": {},
   "outputs": [],
   "source": [
    "# 'import *' should usually be avoided, but it'll make this demo more readable\n",
    "from excelbird import *\n",
    "\n",
    "Book(\n",
    "    Sheet(\n",
    "        Col(Cell(1), Cell(2)),\n",
    "        Col(1, 2)  # Any value will be converted to Cell\n",
    "    )\n",
    ").write(PATH)"
   ]
  },
  {
   "attachments": {},
   "cell_type": "markdown",
   "metadata": {},
   "source": [
    "<img src=\"https://i.imgur.com/CE1i2Ag.png\" width=\"350\"/>"
   ]
  },
  {
   "attachments": {},
   "cell_type": "markdown",
   "metadata": {},
   "source": [
    "That's not quite right. We need a container that's **horizontally arranged**.\n",
    "\n",
    "There are two options: `Stack` (unstructured), and `Frame` (structured).\n",
    "We'll talk more about the differences later, but *if possible*, always use a Frame for holding Cols"
   ]
  },
  {
   "cell_type": "code",
   "execution_count": null,
   "metadata": {},
   "outputs": [],
   "source": [
    "Book(\n",
    "    Sheet(\n",
    "        Frame(\n",
    "            Col(Cell(1), Cell(2)),\n",
    "            Col(1, 2)  # Any value will be converted to Cell\n",
    "        )\n",
    "    )\n",
    ").write(PATH)"
   ]
  },
  {
   "attachments": {},
   "cell_type": "markdown",
   "metadata": {},
   "source": [
    "<img src=\"https://i.imgur.com/70unHDv.png\" width=\"350\"/>"
   ]
  },
  {
   "attachments": {},
   "cell_type": "markdown",
   "metadata": {},
   "source": [
    "All containers (besides Book and Sheet) have a **sibling type**: an object that functionally identical,\n",
    "but arranges its children along the opposite axis\n",
    "\n",
    "`Col`'s sibling type is `Row`"
   ]
  },
  {
   "cell_type": "code",
   "execution_count": null,
   "metadata": {},
   "outputs": [],
   "source": [
    "Book(\n",
    "    Sheet(\n",
    "        Frame(\n",
    "            Col(Cell(1), Cell(2)),\n",
    "            Col(1, 2)\n",
    "        ),\n",
    "        Row(10, 20, 30), # <-------\n",
    "    )\n",
    ").write(PATH)"
   ]
  },
  {
   "attachments": {},
   "cell_type": "markdown",
   "metadata": {},
   "source": [
    "<img src=\"https://i.imgur.com/CHthDUs.png\" width=\"350\"/>"
   ]
  },
  {
   "attachments": {},
   "cell_type": "markdown",
   "metadata": {},
   "source": [
    "## Styling\n",
    "\n",
    "This is one of the greatest advantages of using a tree-like layout design instead of scripting.\n",
    "If you have experience in HTML/CSS the following examples will feel intuitive. Here are the rules:\n",
    "\n",
    "1. A container's styling will be passed down to each of its children\n",
    "2. An element will **always** override its parent for each style attribute declared directly.\n",
    "3. Exceptions to rule #1 are made when the styling is *spatial* in nature. For instance, ``border`` will always be applied to the perimeter of the element it was declared on."
   ]
  },
  {
   "attachments": {},
   "cell_type": "markdown",
   "metadata": {},
   "source": [
    "Before we continue, let's set up some default settings to apply to our Book in the following examples"
   ]
  },
  {
   "cell_type": "code",
   "execution_count": 96,
   "metadata": {},
   "outputs": [],
   "source": [
    "# Applying these at the Book level will affect every cell in every sheet\n",
    "book_settings = dict(\n",
    "    row_height=29,\n",
    "    col_width=5, # same dimensions as rows. Square cells.\n",
    "    center=True, # sets align_x='center' and align_y='center'\n",
    "    bold=True,\n",
    "    size=14,  # font\n",
    "    auto_open=True,  # opens our book for us\n",
    "    zoom=350,\n",
    "    end_gap=True,\n",
    "    # Note: end_gap surrounds the sheet's contents with Cells.\n",
    "    # (True applies a default). This way the row_height\n",
    "    # and col_width are applied everywhere\n",
    ")"
   ]
  },
  {
   "cell_type": "code",
   "execution_count": null,
   "metadata": {},
   "outputs": [],
   "source": [
    "theme = xb.colors.theme\n",
    "# Note: theme colors are numbered in ascending order of darkness.\n",
    "# green4 is darker, and green1 is lighter\n",
    "Book(\n",
    "    Sheet(\n",
    "        Frame(\n",
    "            Col(\n",
    "                Cell(1, fill_color=theme.green4),  # Cell-level\n",
    "                Cell(2),\n",
    "                fill_color=theme.green3,  # Col-level\n",
    "                size=11,\n",
    "            ),\n",
    "            Col(3, 4),\n",
    "            fill_color=theme.green2,  # Frame-level\n",
    "        ),\n",
    "    ),\n",
    "    **book_settings\n",
    ").write(PATH)"
   ]
  },
  {
   "attachments": {},
   "cell_type": "markdown",
   "metadata": {},
   "source": [
    "<img src=\"https://i.imgur.com/YqtdwEu.png\" width=\"150\"/>"
   ]
  },
  {
   "attachments": {},
   "cell_type": "markdown",
   "metadata": {},
   "source": [
    "## Colors\n",
    "\n",
    "For the next few examples I'll use ``xb.colors.theme.groups``, each color in 'groups' contains a list of 6 shades, as seen in the default color picker you use every time you open Excel."
   ]
  },
  {
   "cell_type": "code",
   "execution_count": null,
   "metadata": {},
   "outputs": [],
   "source": [
    "reds = theme.groups.red[1:] # last 5 colors.\n",
    "blues = theme.groups.light_blue[1:]\n",
    "Book(\n",
    "    Sheet(\n",
    "        Row([Cell(i+1, fill_color=c) for i,c in enumerate(reds)]),\n",
    "        Row([Cell(i+1, fill_color=c) for i,c in enumerate(blues)]),\n",
    "    ),\n",
    "    **book_settings\n",
    ").write(PATH)"
   ]
  },
  {
   "attachments": {},
   "cell_type": "markdown",
   "metadata": {},
   "source": [
    "<img src=\"https://i.imgur.com/4wgk1db.png\" width=\"350\"/>"
   ]
  },
  {
   "attachments": {},
   "cell_type": "markdown",
   "metadata": {},
   "source": [
    "``auto_color_font`` ensures the text is always readable"
   ]
  },
  {
   "cell_type": "code",
   "execution_count": null,
   "metadata": {},
   "outputs": [],
   "source": [
    "Book(\n",
    "    Sheet(\n",
    "        Row([Cell(i+1, fill_color=c) for i,c in enumerate(reds)]),\n",
    "        Row([Cell(i+1, fill_color=c) for i,c in enumerate(blues)]),\n",
    "        auto_color_font=True,\n",
    "    ),\n",
    "    **book_settings\n",
    ").write(PATH)"
   ]
  },
  {
   "attachments": {},
   "cell_type": "markdown",
   "metadata": {},
   "source": [
    "<img src=\"https://i.imgur.com/GiM2HTA.png\" width=\"350\"/>"
   ]
  },
  {
   "attachments": {},
   "cell_type": "markdown",
   "metadata": {},
   "source": [
    "It gets better: ``auto_shade_font`` will take your background color and give the font a *scaled* version of it."
   ]
  },
  {
   "cell_type": "code",
   "execution_count": null,
   "metadata": {},
   "outputs": [],
   "source": [
    "Book(\n",
    "    Sheet(\n",
    "        Row([Cell(i+1, fill_color=c) for i,c in enumerate(reds)]),\n",
    "        Row([Cell(i+1, fill_color=c) for i,c in enumerate(blues)]),\n",
    "        auto_shade_font=True,\n",
    "    ),\n",
    "    **book_settings,\n",
    ").write(PATH)"
   ]
  },
  {
   "attachments": {},
   "cell_type": "markdown",
   "metadata": {},
   "source": [
    "<img src=\"https://i.imgur.com/wvJkN4k.png\" width=\"350\"/>"
   ]
  },
  {
   "attachments": {},
   "cell_type": "markdown",
   "metadata": {},
   "source": [
    "## Headers\n",
    "\n",
    "Series objects - ``Col`` and ``Row`` - have a special attribute: ``header``.\n",
    "\n",
    "A header is a string defined as an attribute on an element, that won't be converted\n",
    "to a Cell until write time. Separating it from the series' children serves a few purposes:\n",
    "\n",
    "- It's ignored when the series is used in an arithmetic expression or formula (more on that later)\n",
    "- Its styling is independent from the rest of the series' Cells.\n",
    "- Convenience when passing an existing data source (like a list, or pandas Series) as the series' data"
   ]
  },
  {
   "cell_type": "code",
   "execution_count": 105,
   "metadata": {},
   "outputs": [],
   "source": [
    "book_settings = dict(\n",
    "    row_height=29,\n",
    "    col_width=5,\n",
    "    center=True,\n",
    "    auto_open=True,\n",
    "    zoom=350,\n",
    "    end_gap=True,\n",
    ")"
   ]
  },
  {
   "cell_type": "code",
   "execution_count": null,
   "metadata": {},
   "outputs": [],
   "source": [
    "Book(\n",
    "    Sheet(\n",
    "        Row(1,2,3, header=\"one\", fill_color=theme.red2),\n",
    "    ),\n",
    "    **book_settings,\n",
    ").write(PATH)"
   ]
  },
  {
   "attachments": {},
   "cell_type": "markdown",
   "metadata": {},
   "source": [
    "<img src=\"https://i.imgur.com/pKjGFpO.png\" width=\"300\"/>"
   ]
  },
  {
   "attachments": {},
   "cell_type": "markdown",
   "metadata": {},
   "source": [
    "Col and Row have a ``header_style`` attribute"
   ]
  },
  {
   "cell_type": "code",
   "execution_count": null,
   "metadata": {},
   "outputs": [],
   "source": [
    "Book(\n",
    "    Sheet(\n",
    "        Col(\n",
    "            Cell(1),\n",
    "            Cell(2),\n",
    "            Cell(3),\n",
    "            header=\"one\",\n",
    "            fill_color=theme.purple1,\n",
    "            header_style=dict(\n",
    "                center=True,\n",
    "                fill_color=theme.purple4,\n",
    "                bold=True,\n",
    "                auto_color_font=True,\n",
    "            )\n",
    "        ),\n",
    "    ),\n",
    "    **book_settings,\n",
    ").write(PATH)"
   ]
  },
  {
   "attachments": {},
   "cell_type": "markdown",
   "metadata": {},
   "source": [
    "<img src=\"https://i.imgur.com/sBxeZVr.png\" width=\"75\"/>"
   ]
  },
  {
   "attachments": {},
   "cell_type": "markdown",
   "metadata": {},
   "source": [
    "## Frames\n",
    "\n",
    "Col and Row will use the series name of a given pandas DataFrame as their header automatically.\n",
    "Consequently, if a `Frame` is given a DataFrame, it will use the column names as headers."
   ]
  },
  {
   "cell_type": "code",
   "execution_count": 127,
   "metadata": {},
   "outputs": [
    {
     "data": {
      "text/html": [
       "<style type=\"text/css\">\n",
       "</style>\n",
       "<table id=\"T_a3bb8\">\n",
       "  <thead>\n",
       "    <tr>\n",
       "      <th id=\"T_a3bb8_level0_col0\" class=\"col_heading level0 col0\" >Number</th>\n",
       "      <th id=\"T_a3bb8_level0_col1\" class=\"col_heading level0 col1\" >Word</th>\n",
       "    </tr>\n",
       "  </thead>\n",
       "  <tbody>\n",
       "    <tr>\n",
       "      <td id=\"T_a3bb8_row0_col0\" class=\"data row0 col0\" >Cell(1)</td>\n",
       "      <td id=\"T_a3bb8_row0_col1\" class=\"data row0 col1\" >Cell(one)</td>\n",
       "    </tr>\n",
       "    <tr>\n",
       "      <td id=\"T_a3bb8_row1_col0\" class=\"data row1 col0\" >Cell(2)</td>\n",
       "      <td id=\"T_a3bb8_row1_col1\" class=\"data row1 col1\" >Cell(two)</td>\n",
       "    </tr>\n",
       "    <tr>\n",
       "      <td id=\"T_a3bb8_row2_col0\" class=\"data row2 col0\" >Cell(3)</td>\n",
       "      <td id=\"T_a3bb8_row2_col1\" class=\"data row2 col1\" >Cell(three)</td>\n",
       "    </tr>\n",
       "    <tr>\n",
       "      <td id=\"T_a3bb8_row3_col0\" class=\"data row3 col0\" >Cell(4)</td>\n",
       "      <td id=\"T_a3bb8_row3_col1\" class=\"data row3 col1\" >Cell(four)</td>\n",
       "    </tr>\n",
       "  </tbody>\n",
       "</table>\n"
      ],
      "text/plain": [
       "Frame([Col([Cell(1), Cell(2), Cell(3), Cell(4)]), Col([Cell(one), Cell(two), Cell(three), Cell(four)])])"
      ]
     },
     "execution_count": 127,
     "metadata": {},
     "output_type": "execute_result"
    }
   ],
   "source": [
    "import pandas as pd\n",
    "\n",
    "df = pd.DataFrame(\n",
    "    zip([1,2,3,4], ['one', 'two', 'three', 'four']),\n",
    "    columns=['Number', 'Word']\n",
    ")\n",
    "\n",
    "fr = xb.Frame(df)\n",
    "fr"
   ]
  },
  {
   "attachments": {},
   "cell_type": "markdown",
   "metadata": {},
   "source": [
    "`VFrame` is Frame's sibling. It holds rows and arranges them vertically"
   ]
  },
  {
   "cell_type": "code",
   "execution_count": 118,
   "metadata": {},
   "outputs": [
    {
     "data": {
      "text/html": [
       "<div>\n",
       "<style scoped>\n",
       "    .dataframe tbody tr th:only-of-type {\n",
       "        vertical-align: middle;\n",
       "    }\n",
       "\n",
       "    .dataframe tbody tr th {\n",
       "        vertical-align: top;\n",
       "    }\n",
       "\n",
       "    .dataframe thead th {\n",
       "        text-align: right;\n",
       "    }\n",
       "</style>\n",
       "<table border=\"1\" class=\"dataframe\">\n",
       "  <thead>\n",
       "    <tr style=\"text-align: right;\">\n",
       "      <th></th>\n",
       "      <th></th>\n",
       "      <th></th>\n",
       "      <th></th>\n",
       "      <th></th>\n",
       "    </tr>\n",
       "  </thead>\n",
       "  <tbody>\n",
       "    <tr>\n",
       "      <th>Number</th>\n",
       "      <td>Cell(1)</td>\n",
       "      <td>Cell(2)</td>\n",
       "      <td>Cell(3)</td>\n",
       "      <td>Cell(4)</td>\n",
       "    </tr>\n",
       "    <tr>\n",
       "      <th>Word</th>\n",
       "      <td>Cell(one)</td>\n",
       "      <td>Cell(two)</td>\n",
       "      <td>Cell(three)</td>\n",
       "      <td>Cell(four)</td>\n",
       "    </tr>\n",
       "    <tr>\n",
       "      <th></th>\n",
       "      <td></td>\n",
       "      <td></td>\n",
       "      <td></td>\n",
       "      <td></td>\n",
       "    </tr>\n",
       "  </tbody>\n",
       "</table>\n",
       "</div>"
      ],
      "text/plain": [
       "VFrame([Row([Cell(1), Cell(2), Cell(3), Cell(4)]), Row([Cell(one), Cell(two), Cell(three), Cell(four)])])"
      ]
     },
     "execution_count": 118,
     "metadata": {},
     "output_type": "execute_result"
    }
   ],
   "source": [
    "vfr = xb.VFrame(df)\n",
    "vfr"
   ]
  },
  {
   "attachments": {},
   "cell_type": "markdown",
   "metadata": {},
   "source": [
    "We can access elements in a Frame by their header"
   ]
  },
  {
   "cell_type": "code",
   "execution_count": 119,
   "metadata": {},
   "outputs": [
    {
     "data": {
      "text/html": [
       "<style type=\"text/css\">\n",
       "</style>\n",
       "<table id=\"T_673b1\">\n",
       "  <thead>\n",
       "    <tr>\n",
       "      <th id=\"T_673b1_level0_col0\" class=\"col_heading level0 col0\" >Word</th>\n",
       "    </tr>\n",
       "  </thead>\n",
       "  <tbody>\n",
       "    <tr>\n",
       "      <td id=\"T_673b1_row0_col0\" class=\"data row0 col0\" >Cell(one)</td>\n",
       "    </tr>\n",
       "    <tr>\n",
       "      <td id=\"T_673b1_row1_col0\" class=\"data row1 col0\" >Cell(two)</td>\n",
       "    </tr>\n",
       "    <tr>\n",
       "      <td id=\"T_673b1_row2_col0\" class=\"data row2 col0\" >Cell(three)</td>\n",
       "    </tr>\n",
       "    <tr>\n",
       "      <td id=\"T_673b1_row3_col0\" class=\"data row3 col0\" >Cell(four)</td>\n",
       "    </tr>\n",
       "    <tr>\n",
       "      <td id=\"T_673b1_row4_col0\" class=\"data row4 col0\" ></td>\n",
       "    </tr>\n",
       "  </tbody>\n",
       "</table>\n"
      ],
      "text/plain": [
       "Col([Cell(one), Cell(two), Cell(three), Cell(four)])"
      ]
     },
     "execution_count": 119,
     "metadata": {},
     "output_type": "execute_result"
    }
   ],
   "source": [
    "fr['Word']"
   ]
  },
  {
   "cell_type": "code",
   "execution_count": 120,
   "metadata": {},
   "outputs": [
    {
     "data": {
      "text/html": [
       "<div>\n",
       "<style scoped>\n",
       "    .dataframe tbody tr th:only-of-type {\n",
       "        vertical-align: middle;\n",
       "    }\n",
       "\n",
       "    .dataframe tbody tr th {\n",
       "        vertical-align: top;\n",
       "    }\n",
       "\n",
       "    .dataframe thead th {\n",
       "        text-align: right;\n",
       "    }\n",
       "</style>\n",
       "<table border=\"1\" class=\"dataframe\">\n",
       "  <thead>\n",
       "    <tr style=\"text-align: right;\">\n",
       "      <th></th>\n",
       "      <th></th>\n",
       "      <th></th>\n",
       "      <th></th>\n",
       "      <th></th>\n",
       "    </tr>\n",
       "  </thead>\n",
       "  <tbody>\n",
       "    <tr>\n",
       "      <th>Word</th>\n",
       "      <td>Cell(one)</td>\n",
       "      <td>Cell(two)</td>\n",
       "      <td>Cell(three)</td>\n",
       "      <td>Cell(four)</td>\n",
       "    </tr>\n",
       "    <tr>\n",
       "      <th></th>\n",
       "      <td></td>\n",
       "      <td></td>\n",
       "      <td></td>\n",
       "      <td></td>\n",
       "    </tr>\n",
       "  </tbody>\n",
       "</table>\n",
       "</div>"
      ],
      "text/plain": [
       "Row([Cell(one), Cell(two), Cell(three), Cell(four)])"
      ]
     },
     "execution_count": 120,
     "metadata": {},
     "output_type": "execute_result"
    }
   ],
   "source": [
    "vfr['Word']"
   ]
  },
  {
   "attachments": {},
   "cell_type": "markdown",
   "metadata": {},
   "source": [
    "## Python Expressions and Cell References\n",
    "\n",
    "Excelbird will track 'cell references' on its own, and later convert them to real cell locations when the Book is written"
   ]
  },
  {
   "cell_type": "code",
   "execution_count": 128,
   "metadata": {},
   "outputs": [
    {
     "data": {
      "text/html": [
       "<style type=\"text/css\">\n",
       "</style>\n",
       "<table id=\"T_cd87a\">\n",
       "  <thead>\n",
       "    <tr>\n",
       "      <th id=\"T_cd87a_level0_col0\" class=\"col_heading level0 col0\" >Number</th>\n",
       "      <th id=\"T_cd87a_level0_col1\" class=\"col_heading level0 col1\" >Word</th>\n",
       "      <th id=\"T_cd87a_level0_col2\" class=\"col_heading level0 col2\" >Big Number</th>\n",
       "    </tr>\n",
       "  </thead>\n",
       "  <tbody>\n",
       "    <tr>\n",
       "      <td id=\"T_cd87a_row0_col0\" class=\"data row0 col0\" >Cell(1)</td>\n",
       "      <td id=\"T_cd87a_row0_col1\" class=\"data row0 col1\" >Cell(one)</td>\n",
       "      <td id=\"T_cd87a_row0_col2\" class=\"data row0 col2\" >Cell({...})</td>\n",
       "    </tr>\n",
       "    <tr>\n",
       "      <td id=\"T_cd87a_row1_col0\" class=\"data row1 col0\" >Cell(2)</td>\n",
       "      <td id=\"T_cd87a_row1_col1\" class=\"data row1 col1\" >Cell(two)</td>\n",
       "      <td id=\"T_cd87a_row1_col2\" class=\"data row1 col2\" >Cell({...})</td>\n",
       "    </tr>\n",
       "    <tr>\n",
       "      <td id=\"T_cd87a_row2_col0\" class=\"data row2 col0\" >Cell(3)</td>\n",
       "      <td id=\"T_cd87a_row2_col1\" class=\"data row2 col1\" >Cell(three)</td>\n",
       "      <td id=\"T_cd87a_row2_col2\" class=\"data row2 col2\" >Cell({...})</td>\n",
       "    </tr>\n",
       "    <tr>\n",
       "      <td id=\"T_cd87a_row3_col0\" class=\"data row3 col0\" >Cell(4)</td>\n",
       "      <td id=\"T_cd87a_row3_col1\" class=\"data row3 col1\" >Cell(four)</td>\n",
       "      <td id=\"T_cd87a_row3_col2\" class=\"data row3 col2\" >Cell({...})</td>\n",
       "    </tr>\n",
       "  </tbody>\n",
       "</table>\n"
      ],
      "text/plain": [
       "Frame([Col([Cell(1), Cell(2), Cell(3), Cell(4)]), Col([Cell(one), Cell(two), Cell(three), Cell(four)]), Col([Cell({...}), Cell({...}), Cell({...}), Cell({...})])])"
      ]
     },
     "execution_count": 128,
     "metadata": {},
     "output_type": "execute_result"
    }
   ],
   "source": [
    "fr['Big Number'] = fr['Number'] + \" thousand\"\n",
    "fr"
   ]
  },
  {
   "cell_type": "code",
   "execution_count": null,
   "metadata": {},
   "outputs": [],
   "source": [
    "xb.Book(fr, auto_open=True).write(PATH)"
   ]
  },
  {
   "attachments": {},
   "cell_type": "markdown",
   "metadata": {},
   "source": [
    "<img src=\"https://i.imgur.com/PuxeEGQ.png\" width=\"300\"/>"
   ]
  },
  {
   "cell_type": "code",
   "execution_count": null,
   "metadata": {},
   "outputs": [],
   "source": [
    "from excelbird import fn  # All 506 builtin excel functions here\n",
    "fr = xb.Frame(df)\n",
    "fr['Big Number'] = fr['Number'] + \" thousand\"\n",
    "\n",
    "fr['Combined'] = fn.CONCAT( fr.loc['Word':'Big Number'] )\n",
    "\n",
    "xb.Book(fr, auto_open=True).write(PATH)"
   ]
  },
  {
   "attachments": {},
   "cell_type": "markdown",
   "metadata": {},
   "source": [
    "<img src=\"https://i.imgur.com/XOXLZbv.png\" width=\"400\"/>"
   ]
  },
  {
   "attachments": {},
   "cell_type": "markdown",
   "metadata": {},
   "source": [
    "More coming soon!"
   ]
  }
 ],
 "metadata": {
  "kernelspec": {
   "display_name": "env",
   "language": "python",
   "name": "python3"
  },
  "language_info": {
   "codemirror_mode": {
    "name": "ipython",
    "version": 3
   },
   "file_extension": ".py",
   "mimetype": "text/x-python",
   "name": "python",
   "nbconvert_exporter": "python",
   "pygments_lexer": "ipython3",
   "version": "3.11.1"
  },
  "orig_nbformat": 4,
  "vscode": {
   "interpreter": {
    "hash": "6ee8c39a5e4f5a5ffe92ac0abdca1f10885ded7e28c74450614be57680931831"
   }
  }
 },
 "nbformat": 4,
 "nbformat_minor": 2
}
