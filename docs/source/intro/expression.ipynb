{
 "cells": [
  {
   "attachments": {},
   "cell_type": "markdown",
   "metadata": {},
   "source": [
    "# Python Expressions\n",
    "\n",
    ".. note::\n",
    "    This page is still in progress. More examples and detailed explanation coming soon"
   ]
  },
  {
   "cell_type": "code",
   "execution_count": 1,
   "metadata": {},
   "outputs": [],
   "source": [
    "import pandas as pd\n",
    "from excelbird import *\n",
    "import excelbird as xb\n",
    "PATH = \"test.xlsx\""
   ]
  },
  {
   "cell_type": "code",
   "execution_count": 2,
   "metadata": {},
   "outputs": [
    {
     "data": {
      "text/html": [
       "<style type=\"text/css\">\n",
       "</style>\n",
       "<table id=\"T_c471f\">\n",
       "  <thead>\n",
       "    <tr>\n",
       "      <th id=\"T_c471f_level0_col0\" class=\"col_heading level0 col0\" >Number</th>\n",
       "      <th id=\"T_c471f_level0_col1\" class=\"col_heading level0 col1\" >Word</th>\n",
       "    </tr>\n",
       "  </thead>\n",
       "  <tbody>\n",
       "    <tr>\n",
       "      <td id=\"T_c471f_row0_col0\" class=\"data row0 col0\" >Cell(1)</td>\n",
       "      <td id=\"T_c471f_row0_col1\" class=\"data row0 col1\" >Cell(one)</td>\n",
       "    </tr>\n",
       "    <tr>\n",
       "      <td id=\"T_c471f_row1_col0\" class=\"data row1 col0\" >Cell(2)</td>\n",
       "      <td id=\"T_c471f_row1_col1\" class=\"data row1 col1\" >Cell(two)</td>\n",
       "    </tr>\n",
       "    <tr>\n",
       "      <td id=\"T_c471f_row2_col0\" class=\"data row2 col0\" >Cell(3)</td>\n",
       "      <td id=\"T_c471f_row2_col1\" class=\"data row2 col1\" >Cell(three)</td>\n",
       "    </tr>\n",
       "    <tr>\n",
       "      <td id=\"T_c471f_row3_col0\" class=\"data row3 col0\" >Cell(4)</td>\n",
       "      <td id=\"T_c471f_row3_col1\" class=\"data row3 col1\" >Cell(four)</td>\n",
       "    </tr>\n",
       "  </tbody>\n",
       "</table>\n"
      ],
      "text/plain": [
       "Frame([Col([Cell(1), Cell(2), Cell(3), Cell(4)]), Col([Cell(one), Cell(two), Cell(three), Cell(four)])])"
      ]
     },
     "execution_count": 2,
     "metadata": {},
     "output_type": "execute_result"
    }
   ],
   "source": [
    "df = pd.DataFrame(\n",
    "    zip([1,2,3,4], ['one', 'two', 'three', 'four']),\n",
    "    columns=['Number', 'Word']\n",
    ")\n",
    "\n",
    "fr = Frame(df)\n",
    "fr"
   ]
  },
  {
   "attachments": {},
   "cell_type": "markdown",
   "metadata": {},
   "source": [
    "Excelbird will track 'cell references' on its own as object references, and later convert them to real cell locations when the Book is written"
   ]
  },
  {
   "cell_type": "code",
   "execution_count": 3,
   "metadata": {},
   "outputs": [
    {
     "data": {
      "text/html": [
       "<style type=\"text/css\">\n",
       "</style>\n",
       "<table id=\"T_5993c\">\n",
       "  <thead>\n",
       "    <tr>\n",
       "      <th id=\"T_5993c_level0_col0\" class=\"col_heading level0 col0\" >Number</th>\n",
       "      <th id=\"T_5993c_level0_col1\" class=\"col_heading level0 col1\" >Word</th>\n",
       "      <th id=\"T_5993c_level0_col2\" class=\"col_heading level0 col2\" >Big Number</th>\n",
       "    </tr>\n",
       "  </thead>\n",
       "  <tbody>\n",
       "    <tr>\n",
       "      <td id=\"T_5993c_row0_col0\" class=\"data row0 col0\" >Cell(1)</td>\n",
       "      <td id=\"T_5993c_row0_col1\" class=\"data row0 col1\" >Cell(one)</td>\n",
       "      <td id=\"T_5993c_row0_col2\" class=\"data row0 col2\" >Cell({...})</td>\n",
       "    </tr>\n",
       "    <tr>\n",
       "      <td id=\"T_5993c_row1_col0\" class=\"data row1 col0\" >Cell(2)</td>\n",
       "      <td id=\"T_5993c_row1_col1\" class=\"data row1 col1\" >Cell(two)</td>\n",
       "      <td id=\"T_5993c_row1_col2\" class=\"data row1 col2\" >Cell({...})</td>\n",
       "    </tr>\n",
       "    <tr>\n",
       "      <td id=\"T_5993c_row2_col0\" class=\"data row2 col0\" >Cell(3)</td>\n",
       "      <td id=\"T_5993c_row2_col1\" class=\"data row2 col1\" >Cell(three)</td>\n",
       "      <td id=\"T_5993c_row2_col2\" class=\"data row2 col2\" >Cell({...})</td>\n",
       "    </tr>\n",
       "    <tr>\n",
       "      <td id=\"T_5993c_row3_col0\" class=\"data row3 col0\" >Cell(4)</td>\n",
       "      <td id=\"T_5993c_row3_col1\" class=\"data row3 col1\" >Cell(four)</td>\n",
       "      <td id=\"T_5993c_row3_col2\" class=\"data row3 col2\" >Cell({...})</td>\n",
       "    </tr>\n",
       "  </tbody>\n",
       "</table>\n"
      ],
      "text/plain": [
       "Frame([Col([Cell(1), Cell(2), Cell(3), Cell(4)]), Col([Cell(one), Cell(two), Cell(three), Cell(four)]), Col([Cell({...}), Cell({...}), Cell({...}), Cell({...})])])"
      ]
     },
     "execution_count": 3,
     "metadata": {},
     "output_type": "execute_result"
    }
   ],
   "source": [
    "fr['Big Number'] = fr['Number'] + \" thousand\"\n",
    "fr"
   ]
  },
  {
   "cell_type": "code",
   "execution_count": null,
   "metadata": {},
   "outputs": [],
   "source": [
    "xb.Book(fr).write(PATH)"
   ]
  },
  {
   "attachments": {},
   "cell_type": "markdown",
   "metadata": {},
   "source": [
    "<img src=\"https://i.imgur.com/PuxeEGQ.png\" width=\"300\"/>"
   ]
  },
  {
   "cell_type": "code",
   "execution_count": 5,
   "metadata": {},
   "outputs": [],
   "source": [
    "from excelbird.fn import CONCAT  # All 506 builtin excel functions here\n",
    "\n",
    "fr = Frame(df)\n",
    "fr['Big Number'] = fr['Number'] + \" thousand\"\n",
    "\n",
    "fr['Combined'] = CONCAT( fr.loc['Word':'Big Number'] )\n",
    "\n",
    "Book(fr).write(PATH)"
   ]
  },
  {
   "attachments": {},
   "cell_type": "markdown",
   "metadata": {},
   "source": [
    "<img src=\"https://i.imgur.com/XOXLZbv.png\" width=\"400\"/>"
   ]
  }
 ],
 "metadata": {
  "kernelspec": {
   "display_name": "env",
   "language": "python",
   "name": "python3"
  },
  "language_info": {
   "codemirror_mode": {
    "name": "ipython",
    "version": 3
   },
   "file_extension": ".py",
   "mimetype": "text/x-python",
   "name": "python",
   "nbconvert_exporter": "python",
   "pygments_lexer": "ipython3",
   "version": "3.11.1"
  },
  "orig_nbformat": 4,
  "vscode": {
   "interpreter": {
    "hash": "6ee8c39a5e4f5a5ffe92ac0abdca1f10885ded7e28c74450614be57680931831"
   }
  }
 },
 "nbformat": 4,
 "nbformat_minor": 2
}
