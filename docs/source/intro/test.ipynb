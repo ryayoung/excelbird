{
 "cells": [
  {
   "attachments": {},
   "cell_type": "markdown",
   "metadata": {},
   "source": [
    "# Intro\n",
    "\n",
    "### An HTML Layout\n",
    "\n",
    "```html\n",
    "<html>\n",
    "    <body>\n",
    "        <div>\n",
    "            stuff\n",
    "        </div>\n",
    "        <div>\n",
    "            more stuff\n",
    "        </div>\n",
    "    </body>\n",
    "</html>\n",
    "```\n",
    "\n",
    "### Excelbird Layout\n",
    "\n",
    "```python\n",
    "Book(\n",
    "    Sheet(\n",
    "        # Structured container: Frame, Col/Row, Cell\n",
    "        Frame(\n",
    "            Col(\n",
    "                Cell(1),\n",
    "                Cell(2),\n",
    "                Cell(3),\n",
    "                Cell(4),\n",
    "            ),\n",
    "            Col(\n",
    "                Cell(1),\n",
    "                Cell(2),\n",
    "                Cell(3),\n",
    "                Cell(4),\n",
    "            ),\n",
    "        ),\n",
    "        # Unstructured container: Stack, Sheet\n",
    "        Stack(\n",
    "            Cell(1),\n",
    "            Row(1, 2, 3),\n",
    "            Col(5, 6, 7),\n",
    "            Frame([[10,20], [30, 40]]),\n",
    "        )\n",
    "    )\n",
    ").write(path)\n",
    "```"
   ]
  },
  {
   "cell_type": "code",
   "execution_count": 1,
   "metadata": {},
   "outputs": [
    {
     "data": {
      "text/html": [
       "<style type=\"text/css\">\n",
       "</style>\n",
       "<table id=\"T_ad57f\">\n",
       "  <thead>\n",
       "    <tr>\n",
       "      <th id=\"T_ad57f_level0_col0\" class=\"col_heading level0 col0\" >Number</th>\n",
       "      <th id=\"T_ad57f_level0_col1\" class=\"col_heading level0 col1\" >Word</th>\n",
       "    </tr>\n",
       "  </thead>\n",
       "  <tbody>\n",
       "    <tr>\n",
       "      <td id=\"T_ad57f_row0_col0\" class=\"data row0 col0\" >Cell(1)</td>\n",
       "      <td id=\"T_ad57f_row0_col1\" class=\"data row0 col1\" >Cell(one)</td>\n",
       "    </tr>\n",
       "    <tr>\n",
       "      <td id=\"T_ad57f_row1_col0\" class=\"data row1 col0\" >Cell(2)</td>\n",
       "      <td id=\"T_ad57f_row1_col1\" class=\"data row1 col1\" >Cell(two)</td>\n",
       "    </tr>\n",
       "    <tr>\n",
       "      <td id=\"T_ad57f_row2_col0\" class=\"data row2 col0\" >Cell(3)</td>\n",
       "      <td id=\"T_ad57f_row2_col1\" class=\"data row2 col1\" >Cell(three)</td>\n",
       "    </tr>\n",
       "    <tr>\n",
       "      <td id=\"T_ad57f_row3_col0\" class=\"data row3 col0\" >Cell(4)</td>\n",
       "      <td id=\"T_ad57f_row3_col1\" class=\"data row3 col1\" >Cell(four)</td>\n",
       "    </tr>\n",
       "  </tbody>\n",
       "</table>\n"
      ],
      "text/plain": [
       "Frame([Col([Cell(1), Cell(2), Cell(3), Cell(4)]), Col([Cell(one), Cell(two), Cell(three), Cell(four)])])"
      ]
     },
     "execution_count": 1,
     "metadata": {},
     "output_type": "execute_result"
    }
   ],
   "source": [
    "import pandas as pd\n",
    "import excelbird as xb\n",
    "\n",
    "df = pd.DataFrame(zip([1,2,3,4], ['one', 'two', 'three', 'four']), columns=['Number', 'Word'])\n",
    "\n",
    "fr = xb.Frame(df)\n",
    "fr"
   ]
  },
  {
   "cell_type": "code",
   "execution_count": 2,
   "metadata": {},
   "outputs": [
    {
     "data": {
      "text/html": [
       "<div>\n",
       "<style scoped>\n",
       "    .dataframe tbody tr th:only-of-type {\n",
       "        vertical-align: middle;\n",
       "    }\n",
       "\n",
       "    .dataframe tbody tr th {\n",
       "        vertical-align: top;\n",
       "    }\n",
       "\n",
       "    .dataframe thead th {\n",
       "        text-align: right;\n",
       "    }\n",
       "</style>\n",
       "<table border=\"1\" class=\"dataframe\">\n",
       "  <thead>\n",
       "    <tr style=\"text-align: right;\">\n",
       "      <th></th>\n",
       "      <th></th>\n",
       "      <th></th>\n",
       "      <th></th>\n",
       "      <th></th>\n",
       "    </tr>\n",
       "  </thead>\n",
       "  <tbody>\n",
       "    <tr>\n",
       "      <th>Number</th>\n",
       "      <td>Cell(1)</td>\n",
       "      <td>Cell(2)</td>\n",
       "      <td>Cell(3)</td>\n",
       "      <td>Cell(4)</td>\n",
       "    </tr>\n",
       "    <tr>\n",
       "      <th>Word</th>\n",
       "      <td>Cell(one)</td>\n",
       "      <td>Cell(two)</td>\n",
       "      <td>Cell(three)</td>\n",
       "      <td>Cell(four)</td>\n",
       "    </tr>\n",
       "    <tr>\n",
       "      <th></th>\n",
       "      <td></td>\n",
       "      <td></td>\n",
       "      <td></td>\n",
       "      <td></td>\n",
       "    </tr>\n",
       "  </tbody>\n",
       "</table>\n",
       "</div>"
      ],
      "text/plain": [
       "VFrame([Row([Cell(1), Cell(2), Cell(3), Cell(4)]), Row([Cell(one), Cell(two), Cell(three), Cell(four)])])"
      ]
     },
     "execution_count": 2,
     "metadata": {},
     "output_type": "execute_result"
    }
   ],
   "source": [
    "vfr = xb.VFrame(df)\n",
    "vfr"
   ]
  },
  {
   "cell_type": "code",
   "execution_count": 2,
   "metadata": {},
   "outputs": [
    {
     "data": {
      "text/html": [
       "<style type=\"text/css\">\n",
       "</style>\n",
       "<table id=\"T_6dabc\">\n",
       "  <thead>\n",
       "    <tr>\n",
       "      <th id=\"T_6dabc_level0_col0\" class=\"col_heading level0 col0\" >Word</th>\n",
       "    </tr>\n",
       "  </thead>\n",
       "  <tbody>\n",
       "    <tr>\n",
       "      <td id=\"T_6dabc_row0_col0\" class=\"data row0 col0\" >Cell(one)</td>\n",
       "    </tr>\n",
       "    <tr>\n",
       "      <td id=\"T_6dabc_row1_col0\" class=\"data row1 col0\" >Cell(two)</td>\n",
       "    </tr>\n",
       "    <tr>\n",
       "      <td id=\"T_6dabc_row2_col0\" class=\"data row2 col0\" >Cell(three)</td>\n",
       "    </tr>\n",
       "    <tr>\n",
       "      <td id=\"T_6dabc_row3_col0\" class=\"data row3 col0\" >Cell(four)</td>\n",
       "    </tr>\n",
       "    <tr>\n",
       "      <td id=\"T_6dabc_row4_col0\" class=\"data row4 col0\" ></td>\n",
       "    </tr>\n",
       "  </tbody>\n",
       "</table>\n"
      ],
      "text/plain": [
       "Col([Cell(one), Cell(two), Cell(three), Cell(four)])"
      ]
     },
     "execution_count": 2,
     "metadata": {},
     "output_type": "execute_result"
    }
   ],
   "source": [
    "fr['Word']"
   ]
  },
  {
   "cell_type": "code",
   "execution_count": 4,
   "metadata": {},
   "outputs": [
    {
     "data": {
      "text/html": [
       "<div>\n",
       "<style scoped>\n",
       "    .dataframe tbody tr th:only-of-type {\n",
       "        vertical-align: middle;\n",
       "    }\n",
       "\n",
       "    .dataframe tbody tr th {\n",
       "        vertical-align: top;\n",
       "    }\n",
       "\n",
       "    .dataframe thead th {\n",
       "        text-align: right;\n",
       "    }\n",
       "</style>\n",
       "<table border=\"1\" class=\"dataframe\">\n",
       "  <thead>\n",
       "    <tr style=\"text-align: right;\">\n",
       "      <th></th>\n",
       "      <th></th>\n",
       "      <th></th>\n",
       "      <th></th>\n",
       "      <th></th>\n",
       "    </tr>\n",
       "  </thead>\n",
       "  <tbody>\n",
       "    <tr>\n",
       "      <th>Word</th>\n",
       "      <td>Cell(one)</td>\n",
       "      <td>Cell(two)</td>\n",
       "      <td>Cell(three)</td>\n",
       "      <td>Cell(four)</td>\n",
       "    </tr>\n",
       "    <tr>\n",
       "      <th></th>\n",
       "      <td></td>\n",
       "      <td></td>\n",
       "      <td></td>\n",
       "      <td></td>\n",
       "    </tr>\n",
       "  </tbody>\n",
       "</table>\n",
       "</div>"
      ],
      "text/plain": [
       "Row([Cell(one), Cell(two), Cell(three), Cell(four)])"
      ]
     },
     "execution_count": 4,
     "metadata": {},
     "output_type": "execute_result"
    }
   ],
   "source": [
    "vfr['Word']"
   ]
  },
  {
   "cell_type": "code",
   "execution_count": 5,
   "metadata": {},
   "outputs": [
    {
     "data": {
      "text/html": [
       "<style type=\"text/css\">\n",
       "</style>\n",
       "<table id=\"T_9794f\">\n",
       "  <thead>\n",
       "    <tr>\n",
       "      <th id=\"T_9794f_level0_col0\" class=\"col_heading level0 col0\" >Number</th>\n",
       "      <th id=\"T_9794f_level0_col1\" class=\"col_heading level0 col1\" >Word</th>\n",
       "      <th id=\"T_9794f_level0_col2\" class=\"col_heading level0 col2\" >Big Number</th>\n",
       "    </tr>\n",
       "  </thead>\n",
       "  <tbody>\n",
       "    <tr>\n",
       "      <td id=\"T_9794f_row0_col0\" class=\"data row0 col0\" >Cell(1)</td>\n",
       "      <td id=\"T_9794f_row0_col1\" class=\"data row0 col1\" >Cell(one)</td>\n",
       "      <td id=\"T_9794f_row0_col2\" class=\"data row0 col2\" >Cell({...})</td>\n",
       "    </tr>\n",
       "    <tr>\n",
       "      <td id=\"T_9794f_row1_col0\" class=\"data row1 col0\" >Cell(2)</td>\n",
       "      <td id=\"T_9794f_row1_col1\" class=\"data row1 col1\" >Cell(two)</td>\n",
       "      <td id=\"T_9794f_row1_col2\" class=\"data row1 col2\" >Cell({...})</td>\n",
       "    </tr>\n",
       "    <tr>\n",
       "      <td id=\"T_9794f_row2_col0\" class=\"data row2 col0\" >Cell(3)</td>\n",
       "      <td id=\"T_9794f_row2_col1\" class=\"data row2 col1\" >Cell(three)</td>\n",
       "      <td id=\"T_9794f_row2_col2\" class=\"data row2 col2\" >Cell({...})</td>\n",
       "    </tr>\n",
       "    <tr>\n",
       "      <td id=\"T_9794f_row3_col0\" class=\"data row3 col0\" >Cell(4)</td>\n",
       "      <td id=\"T_9794f_row3_col1\" class=\"data row3 col1\" >Cell(four)</td>\n",
       "      <td id=\"T_9794f_row3_col2\" class=\"data row3 col2\" >Cell({...})</td>\n",
       "    </tr>\n",
       "  </tbody>\n",
       "</table>\n"
      ],
      "text/plain": [
       "Frame([Col([Cell(1), Cell(2), Cell(3), Cell(4)]), Col([Cell(one), Cell(two), Cell(three), Cell(four)]), Col([Cell({...}), Cell({...}), Cell({...}), Cell({...})])])"
      ]
     },
     "execution_count": 5,
     "metadata": {},
     "output_type": "execute_result"
    }
   ],
   "source": [
    "fr['Big Number'] = fr['Number'] + \" thousand\"\n",
    "fr"
   ]
  },
  {
   "cell_type": "code",
   "execution_count": null,
   "metadata": {},
   "outputs": [],
   "source": [
    "xb.Book(fr).write('test.xlsx')"
   ]
  },
  {
   "attachments": {},
   "cell_type": "markdown",
   "metadata": {},
   "source": [
    "<img src=\"https://i.imgur.com/CFOYnq6.png\" width=\"300\"/>"
   ]
  }
 ],
 "metadata": {
  "kernelspec": {
   "display_name": "Python 3",
   "language": "python",
   "name": "python3"
  },
  "language_info": {
   "codemirror_mode": {
    "name": "ipython",
    "version": 3
   },
   "file_extension": ".py",
   "mimetype": "text/x-python",
   "name": "python",
   "nbconvert_exporter": "python",
   "pygments_lexer": "ipython3",
   "version": "3.10.9"
  },
  "orig_nbformat": 4,
  "vscode": {
   "interpreter": {
    "hash": "eda7e54fe21129b67f77862937907ee926f057597a3e2fa1e18ac955e40912b3"
   }
  }
 },
 "nbformat": 4,
 "nbformat_minor": 2
}
