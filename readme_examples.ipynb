{
 "cells": [
  {
   "cell_type": "code",
   "execution_count": 1,
   "metadata": {},
   "outputs": [],
   "source": [
    "import pandas as pd\n",
    "from excelbird import *\n",
    "path = \"/Users/Ryan.Young3/Desktop/TEST.xlsx\"\n",
    "green = colors.theme.green2\n",
    "blue = colors.theme.light_blue2"
   ]
  },
  {
   "cell_type": "code",
   "execution_count": null,
   "metadata": {},
   "outputs": [],
   "source": [
    "Book( # Holds sheets\n",
    "    Sheet( # Holds anything. Arranged vertically, like VStack\n",
    "        HStack( # Holds anything. Arranged horizontally.\n",
    "            HFrame( # Holds Cols. Arranged horizontally\n",
    "                Col( # Holds Cells. Arranged vertically\n",
    "                    Cell(),\n",
    "                ),\n",
    "            ),\n",
    "            VFrame( # Holds Rows. Arranged vertically\n",
    "                Row( # Holds Cells. Arranged horizontally\n",
    "                    Cell(),\n",
    "                ),\n",
    "            ),\n",
    "        ),\n",
    "    ),\n",
    ")"
   ]
  },
  {
   "cell_type": "code",
   "execution_count": 1,
   "metadata": {},
   "outputs": [
    {
     "name": "stdout",
     "output_type": "stream",
     "text": [
      "Book '/Users/Ryan.Young3/Desktop/TEST.xlsx' saved\n",
      "Opening Book...\n"
     ]
    }
   ],
   "source": [
    "col1 = Col(1, 2, 3)\n",
    "col2 = col1 + 5\n",
    "col3 = col2 + 10\n",
    "\n",
    "Book(\n",
    "    Sheet(\n",
    "        HFrame(  # Horizontal dataframe\n",
    "            col1,\n",
    "            col2,\n",
    "            col3,\n",
    "        ),\n",
    "    ),\n",
    "    path=path,\n",
    "    auto_open=True,\n",
    ").write()"
   ]
  },
  {
   "cell_type": "code",
   "execution_count": null,
   "metadata": {},
   "outputs": [],
   "source": [
    "Book(\n",
    "    Sheet(\n",
    "        HFrame(\n",
    "            Col(1, 2, 3),\n",
    "            Expr(\"[0] + 5\"),\n",
    "            Expr(\"[1] + 10\"),\n",
    "        ),\n",
    "    ),\n",
    "    path=path,\n",
    "    auto_open=True,\n",
    ").write()"
   ]
  },
  {
   "cell_type": "code",
   "execution_count": null,
   "metadata": {},
   "outputs": [],
   "source": [
    "Book(path,\n",
    "    HFrame(\n",
    "        Col(1, 2, 3),\n",
    "        {\"[0] + 5\"},\n",
    "        {\"[1] + 10\"},\n",
    "    ),\n",
    "    auto_open=True,\n",
    ").write()"
   ]
  },
  {
   "cell_type": "code",
   "execution_count": 2,
   "metadata": {},
   "outputs": [
    {
     "name": "stdout",
     "output_type": "stream",
     "text": [
      "Book '/Users/Ryan.Young3/Desktop/TEST.xlsx' saved\n",
      "Opening Book...\n"
     ]
    }
   ],
   "source": [
    "col = Col(1,2,3)\n",
    "row = Row(col + 5)\n",
    "\n",
    "Book(path,\n",
    "    Sheet(\n",
    "        col,\n",
    "        row,\n",
    "        col + row,\n",
    "        row + col,\n",
    "        sep=Gap(),\n",
    "    ),\n",
    "    fill_color=green,\n",
    "    auto_open=True,\n",
    ").write()"
   ]
  },
  {
   "cell_type": "code",
   "execution_count": 2,
   "metadata": {},
   "outputs": [
    {
     "name": "stdout",
     "output_type": "stream",
     "text": [
      "Book '/Users/Ryan.Young3/Desktop/TEST.xlsx' saved\n",
      "Opening Book...\n"
     ]
    }
   ],
   "source": [
    "col = Col(1, 2, 3, fill_color=green)\n",
    "row = Row(1, 2, 3, fill_color=green)\n",
    "frame = HFrame(\n",
    "    Col(5, 6, 7),\n",
    "    Col(5, 6, 7),\n",
    "    fill_color=green,\n",
    ")\n",
    "\n",
    "Book(path,\n",
    "    Sheet(\n",
    "        col,\n",
    "        row,\n",
    "        frame,\n",
    "        col + frame,\n",
    "        row + frame,\n",
    "        sep=Gap(),\n",
    "    ),\n",
    "    fill_color=blue,\n",
    "    auto_open=True,\n",
    ").write()"
   ]
  }
 ],
 "metadata": {
  "kernelspec": {
   "display_name": "Python 3",
   "language": "python",
   "name": "python3"
  },
  "language_info": {
   "codemirror_mode": {
    "name": "ipython",
    "version": 3
   },
   "file_extension": ".py",
   "mimetype": "text/x-python",
   "name": "python",
   "nbconvert_exporter": "python",
   "pygments_lexer": "ipython3",
   "version": "3.10.8"
  },
  "orig_nbformat": 4,
  "vscode": {
   "interpreter": {
    "hash": "908abd7e78fd4d71ba1be92795635fd82be5080a16e3cc7c1eae8bbfec458fa8"
   }
  }
 },
 "nbformat": 4,
 "nbformat_minor": 2
}
