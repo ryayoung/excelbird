{
 "cells": [
  {
   "cell_type": "code",
   "execution_count": 2,
   "metadata": {},
   "outputs": [],
   "source": [
    "import pandas as pd\n",
    "from excelbird import *\n",
    "path = \"/Users/Ryan.Young3/Desktop/TEST.xlsx\"\n",
    "green = colors.theme.green2\n",
    "blue = colors.theme.light_blue2"
   ]
  },
  {
   "cell_type": "code",
   "execution_count": 1,
   "metadata": {},
   "outputs": [
    {
     "ename": "NameError",
     "evalue": "name 'Book' is not defined",
     "output_type": "error",
     "traceback": [
      "\u001b[0;31m---------------------------------------------------------------------------\u001b[0m",
      "\u001b[0;31mNameError\u001b[0m                                 Traceback (most recent call last)",
      "Cell \u001b[0;32mIn [1], line 1\u001b[0m\n\u001b[0;32m----> 1\u001b[0m Book( \u001b[39m# Holds sheets\u001b[39;00m\n\u001b[1;32m      2\u001b[0m     Sheet( \u001b[39m# Holds anything. Arranged vertically, like VStack\u001b[39;00m\n\u001b[1;32m      3\u001b[0m         HStack( \u001b[39m# Holds anything. Arranged horizontally.\u001b[39;00m\n\u001b[1;32m      4\u001b[0m             HFrame( \u001b[39m# Holds Cols. Arranged horizontally\u001b[39;00m\n\u001b[1;32m      5\u001b[0m                 Col( \u001b[39m# Holds Cells. Arranged vertically\u001b[39;00m\n\u001b[1;32m      6\u001b[0m                     Cell(),\n\u001b[1;32m      7\u001b[0m                 ),\n\u001b[1;32m      8\u001b[0m             ),\n\u001b[1;32m      9\u001b[0m             VFrame( \u001b[39m# Holds Rows. Arranged vertically\u001b[39;00m\n\u001b[1;32m     10\u001b[0m                 Row( \u001b[39m# Holds Cells. Arranged horizontally\u001b[39;00m\n\u001b[1;32m     11\u001b[0m                     Cell(),\n\u001b[1;32m     12\u001b[0m                 ),\n\u001b[1;32m     13\u001b[0m             ),\n\u001b[1;32m     14\u001b[0m         ),\n\u001b[1;32m     15\u001b[0m     ),\n\u001b[1;32m     16\u001b[0m )\n",
      "\u001b[0;31mNameError\u001b[0m: name 'Book' is not defined"
     ]
    }
   ],
   "source": [
    "Book( # Holds sheets\n",
    "    Sheet( # Holds anything. Arranged vertically, like VStack\n",
    "        HStack( # Holds anything. Arranged horizontally.\n",
    "            HFrame( # Holds Cols. Arranged horizontally\n",
    "                Col( # Holds Cells. Arranged vertically\n",
    "                    Cell(),\n",
    "                ),\n",
    "            ),\n",
    "            VFrame( # Holds Rows. Arranged vertically\n",
    "                Row( # Holds Cells. Arranged horizontally\n",
    "                    Cell(),\n",
    "                ),\n",
    "            ),\n",
    "        ),\n",
    "    ),\n",
    ")"
   ]
  },
  {
   "cell_type": "code",
   "execution_count": 1,
   "metadata": {},
   "outputs": [
    {
     "name": "stdout",
     "output_type": "stream",
     "text": [
      "Book '/Users/Ryan.Young3/Desktop/TEST.xlsx' saved\n",
      "Opening Book...\n"
     ]
    }
   ],
   "source": [
    "col1 = Col(1, 2, 3)\n",
    "col2 = col1 + 5\n",
    "col3 = col2 + 10\n",
    "\n",
    "Book(\n",
    "    Sheet(\n",
    "        HFrame(  # Horizontal dataframe\n",
    "            col1,\n",
    "            col2,\n",
    "            col3,\n",
    "        ),\n",
    "    ),\n",
    "    path=path,\n",
    "    auto_open=True,\n",
    ").write()"
   ]
  },
  {
   "cell_type": "code",
   "execution_count": null,
   "metadata": {},
   "outputs": [],
   "source": [
    "Book(\n",
    "    Sheet(\n",
    "        HFrame(\n",
    "            Col(1, 2, 3),\n",
    "            Expr(\"[0] + 5\"),\n",
    "            Expr(\"[1] + 10\"),\n",
    "        ),\n",
    "    ),\n",
    "    path=path,\n",
    "    auto_open=True,\n",
    ").write()"
   ]
  },
  {
   "cell_type": "code",
   "execution_count": null,
   "metadata": {},
   "outputs": [],
   "source": [
    "Book(path,\n",
    "    HFrame(\n",
    "        Col(1, 2, 3),\n",
    "        {\"[0] + 5\"},\n",
    "        {\"[1] + 10\"},\n",
    "    ),\n",
    "    auto_open=True,\n",
    ").write()"
   ]
  },
  {
   "cell_type": "code",
   "execution_count": 2,
   "metadata": {},
   "outputs": [
    {
     "name": "stdout",
     "output_type": "stream",
     "text": [
      "Book '/Users/Ryan.Young3/Desktop/TEST.xlsx' saved\n",
      "Opening Book...\n"
     ]
    }
   ],
   "source": [
    "col = Col(1,2,3)\n",
    "row = Row(col + 5)\n",
    "\n",
    "Book(path,\n",
    "    Sheet(\n",
    "        col,\n",
    "        row,\n",
    "        col + row,\n",
    "        row + col,\n",
    "        sep=Gap(),\n",
    "    ),\n",
    "    fill_color=green,\n",
    "    auto_open=True,\n",
    ").write()"
   ]
  },
  {
   "cell_type": "code",
   "execution_count": 2,
   "metadata": {},
   "outputs": [
    {
     "name": "stdout",
     "output_type": "stream",
     "text": [
      "Book '/Users/Ryan.Young3/Desktop/TEST.xlsx' saved\n",
      "Opening Book...\n"
     ]
    }
   ],
   "source": [
    "col = Col(1, 2, 3, fill_color=green)\n",
    "row = Row(1, 2, 3, fill_color=green)\n",
    "frame = HFrame(\n",
    "    Col(5, 6, 7),\n",
    "    Col(5, 6, 7),\n",
    "    fill_color=green,\n",
    ")\n",
    "\n",
    "Book(path,\n",
    "    Sheet(\n",
    "        col,\n",
    "        row,\n",
    "        frame,\n",
    "        col + frame,\n",
    "        row + frame,\n",
    "        sep=Gap(),\n",
    "    ),\n",
    "    fill_color=blue,\n",
    "    auto_open=True,\n",
    ").write()"
   ]
  }
 ],
 "metadata": {
  "kernelspec": {
   "display_name": "Python 3",
   "language": "python",
   "name": "python3"
  },
  "language_info": {
   "codemirror_mode": {
    "name": "ipython",
    "version": 3
   },
   "file_extension": ".py",
   "mimetype": "text/x-python",
   "name": "python",
   "nbconvert_exporter": "python",
   "pygments_lexer": "ipython3",
   "version": "3.10.9"
  },
  "orig_nbformat": 4,
  "vscode": {
   "interpreter": {
    "hash": "eda7e54fe21129b67f77862937907ee926f057597a3e2fa1e18ac955e40912b3"
   }
  }
 },
 "nbformat": 4,
 "nbformat_minor": 2
}
